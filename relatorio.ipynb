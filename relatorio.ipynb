{
 "cells": [
  {
   "cell_type": "code",
   "execution_count": null,
   "id": "90104072-ae22-4150-9478-3c15a98856cf",
   "metadata": {},
   "outputs": [],
   "source": [
    "# Projeto 1 de Grafos \n",
    "## Disciplina: Teoria dos Grafos — UnB\n",
    "## Turma: 01, 2025/2\n",
    "## Professor: Dibio\n",
    "### Integrantes:\n",
    "#- Julia Paulo Amorim - 241039270\n",
    "#- Leticia Gonçalves Bomfim - 241002411\n",
    "#- Vitor Alencar Ribeiro - 231036292\n",
    "\n",
    "#Etapa 1 - Coleta de Dados:\n"
   ]
  }
 ],
 "metadata": {
  "kernelspec": {
   "display_name": "Python 3 (ipykernel)",
   "language": "python",
   "name": "python3"
  },
  "language_info": {
   "codemirror_mode": {
    "name": "ipython",
    "version": 3
   },
   "file_extension": ".py",
   "mimetype": "text/x-python",
   "name": "python",
   "nbconvert_exporter": "python",
   "pygments_lexer": "ipython3",
   "version": "3.12.3"
  }
 },
 "nbformat": 4,
 "nbformat_minor": 5
}
